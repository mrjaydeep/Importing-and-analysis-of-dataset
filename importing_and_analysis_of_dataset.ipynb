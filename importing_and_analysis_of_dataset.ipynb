{
  "nbformat": 4,
  "nbformat_minor": 0,
  "metadata": {
    "colab": {
      "provenance": []
    },
    "kernelspec": {
      "name": "python3",
      "display_name": "Python 3"
    },
    "language_info": {
      "name": "python"
    }
  },
  "cells": [
    {
      "cell_type": "code",
      "execution_count": null,
      "metadata": {
        "colab": {
          "base_uri": "https://localhost:8080/"
        },
        "id": "D6rUVNMogzQk",
        "outputId": "a2a6bb2e-cc00-48ba-a1d2-5b66eaf3434f"
      },
      "outputs": [
        {
          "output_type": "stream",
          "name": "stdout",
          "text": [
            "     user_id  age gender     occupation zip_code\n",
            "0          1   24      M     technician    85711\n",
            "1          2   53      F          other    94043\n",
            "2          3   23      M         writer    32067\n",
            "3          4   24      M     technician    43537\n",
            "4          5   33      F          other    15213\n",
            "..       ...  ...    ...            ...      ...\n",
            "938      939   26      F        student    33319\n",
            "939      940   32      M  administrator    02215\n",
            "940      941   20      M        student    97229\n",
            "941      942   48      F      librarian    78209\n",
            "942      943   22      M        student    77841\n",
            "\n",
            "[943 rows x 5 columns]\n",
            "user_id        int64\n",
            "age            int64\n",
            "gender        object\n",
            "occupation    object\n",
            "zip_code      object\n",
            "dtype: object\n"
          ]
        }
      ],
      "source": [
        "\n",
        "#1. Write the code for the given task.\n",
        "#Use the below link for the source of the data set and solve the exercise.\n",
        "#https://raw.githubusercontent.com/justmarkham/DAT8/master/data/u.user\n",
        "\n",
        "#a) Import the dataset\n",
        "\n",
        "import pandas as pd\n",
        "\n",
        "# Import the dataset from the given URL\n",
        "url = 'https://raw.githubusercontent.com/justmarkham/DAT8/master/data/u.user'\n",
        "df = pd.read_csv(url,delimiter='|')\n",
        "print(df)\n",
        "print(df.dtypes)"
      ]
    },
    {
      "cell_type": "code",
      "source": [
        "#b) Show the first 25 entries\n",
        "import pandas as pd\n",
        "\n",
        "# Printing the first 25 entries from the given url\n",
        "url = 'https://raw.githubusercontent.com/justmarkham/DAT8/master/data/u.user'\n",
        "df = pd.read_csv(url,delimiter='|')\n",
        "print(df.head(25))\n",
        "print(df.dtypes)"
      ],
      "metadata": {
        "colab": {
          "base_uri": "https://localhost:8080/"
        },
        "id": "WZ68ZnAThHef",
        "outputId": "4cb19ad3-9bed-4128-c74a-1327d26e30ce"
      },
      "execution_count": null,
      "outputs": [
        {
          "output_type": "stream",
          "name": "stdout",
          "text": [
            "    user_id  age gender     occupation zip_code\n",
            "0         1   24      M     technician    85711\n",
            "1         2   53      F          other    94043\n",
            "2         3   23      M         writer    32067\n",
            "3         4   24      M     technician    43537\n",
            "4         5   33      F          other    15213\n",
            "5         6   42      M      executive    98101\n",
            "6         7   57      M  administrator    91344\n",
            "7         8   36      M  administrator    05201\n",
            "8         9   29      M        student    01002\n",
            "9        10   53      M         lawyer    90703\n",
            "10       11   39      F          other    30329\n",
            "11       12   28      F          other    06405\n",
            "12       13   47      M       educator    29206\n",
            "13       14   45      M      scientist    55106\n",
            "14       15   49      F       educator    97301\n",
            "15       16   21      M  entertainment    10309\n",
            "16       17   30      M     programmer    06355\n",
            "17       18   35      F          other    37212\n",
            "18       19   40      M      librarian    02138\n",
            "19       20   42      F      homemaker    95660\n",
            "20       21   26      M         writer    30068\n",
            "21       22   25      M         writer    40206\n",
            "22       23   30      F         artist    48197\n",
            "23       24   21      F         artist    94533\n",
            "24       25   39      M       engineer    55107\n",
            "user_id        int64\n",
            "age            int64\n",
            "gender        object\n",
            "occupation    object\n",
            "zip_code      object\n",
            "dtype: object\n"
          ]
        }
      ]
    },
    {
      "cell_type": "code",
      "source": [
        "#c) How many observations in the dataset\n",
        "import pandas as pd\n",
        "\n",
        "url = 'https://raw.githubusercontent.com/justmarkham/DAT8/master/data/u.user'\n",
        "df = pd.read_csv(url,delimiter='|')\n",
        "print(\"Printing the total obervations in the dataset \",len(df))\n",
        "print(df.dtypes)"
      ],
      "metadata": {
        "colab": {
          "base_uri": "https://localhost:8080/"
        },
        "id": "uxAtwYimhIHQ",
        "outputId": "a3028f20-ab68-4112-d2dd-e798c8cb53be"
      },
      "execution_count": null,
      "outputs": [
        {
          "output_type": "stream",
          "name": "stdout",
          "text": [
            "Printing the total obervations in the dataset  943\n",
            "user_id        int64\n",
            "age            int64\n",
            "gender        object\n",
            "occupation    object\n",
            "zip_code      object\n",
            "dtype: object\n"
          ]
        }
      ]
    },
    {
      "cell_type": "code",
      "source": [
        "#d) Print the name of all the columns\n",
        "import pandas as pd\n",
        "\n",
        "url = 'https://raw.githubusercontent.com/justmarkham/DAT8/master/data/u.user'\n",
        "df = pd.read_csv(url,delimiter='|')\n",
        "\n",
        "print(\"Printing names of columns:\")\n",
        "print(df.columns)"
      ],
      "metadata": {
        "colab": {
          "base_uri": "https://localhost:8080/"
        },
        "id": "OoBMseoclnfy",
        "outputId": "ae43d5d1-97ff-4f4a-8808-1d422280d7f7"
      },
      "execution_count": null,
      "outputs": [
        {
          "output_type": "stream",
          "name": "stdout",
          "text": [
            "Printing names of columns:\n",
            "Index(['user_id', 'age', 'gender', 'occupation', 'zip_code'], dtype='object')\n"
          ]
        }
      ]
    },
    {
      "cell_type": "code",
      "source": [
        "#e) What is the data type of each column\n",
        "import pandas as pd\n",
        "\n",
        "url = 'https://raw.githubusercontent.com/justmarkham/DAT8/master/data/u.user'\n",
        "df = pd.read_csv(url,delimiter='|')\n",
        "print(\"printing the data types of each column\")\n",
        "print(df.dtypes)\n"
      ],
      "metadata": {
        "colab": {
          "base_uri": "https://localhost:8080/"
        },
        "id": "iJmcrUTzmvQR",
        "outputId": "a17e0a52-16e0-4c1e-febb-e72509c22cc7"
      },
      "execution_count": null,
      "outputs": [
        {
          "output_type": "stream",
          "name": "stdout",
          "text": [
            "printing the data types of each column\n",
            "user_id        int64\n",
            "age            int64\n",
            "gender        object\n",
            "occupation    object\n",
            "zip_code      object\n",
            "dtype: object\n"
          ]
        }
      ]
    },
    {
      "cell_type": "code",
      "source": [
        "#f) Print only the occupation column\n",
        "import pandas as pd\n",
        "\n",
        "url = 'https://raw.githubusercontent.com/justmarkham/DAT8/master/data/u.user'\n",
        "df = pd.read_csv(url,delimiter='|')\n",
        "print(\"Printing only the occupation column\")\n",
        "print(df['occupation'])"
      ],
      "metadata": {
        "colab": {
          "base_uri": "https://localhost:8080/"
        },
        "id": "KexPLvHDmvjG",
        "outputId": "e17f5b08-f7f3-4ffb-a7c8-e5e7f4ed8b9d"
      },
      "execution_count": null,
      "outputs": [
        {
          "output_type": "stream",
          "name": "stdout",
          "text": [
            "Printing only the occupation column\n",
            "0         technician\n",
            "1              other\n",
            "2             writer\n",
            "3         technician\n",
            "4              other\n",
            "           ...      \n",
            "938          student\n",
            "939    administrator\n",
            "940          student\n",
            "941        librarian\n",
            "942          student\n",
            "Name: occupation, Length: 943, dtype: object\n"
          ]
        }
      ]
    },
    {
      "cell_type": "code",
      "source": [
        "#g) How many different occupations are in this dataset\n",
        "import pandas as pd\n",
        "\n",
        "url = 'https://raw.githubusercontent.com/justmarkham/DAT8/master/data/u.user'\n",
        "df = pd.read_csv(url,delimiter='|')\n",
        "print(\"Printing only the occupation column which have different ocupation\")\n",
        "print(len(df['occupation'].unique()))"
      ],
      "metadata": {
        "colab": {
          "base_uri": "https://localhost:8080/"
        },
        "id": "NYxadx7Fopc1",
        "outputId": "3520d004-6805-449d-ed0e-007c18c623a6"
      },
      "execution_count": null,
      "outputs": [
        {
          "output_type": "stream",
          "name": "stdout",
          "text": [
            "Printing only the occupation column\n",
            "21\n"
          ]
        }
      ]
    },
    {
      "cell_type": "code",
      "source": [
        "#h) Summarize the DataFrame\n",
        "import pandas as pd\n",
        "\n",
        "url = 'https://raw.githubusercontent.com/justmarkham/DAT8/master/data/u.user'\n",
        "df = pd.read_csv(url,delimiter='|')\n",
        "print(\"Summary of dataset:\")\n",
        "print(df.info())"
      ],
      "metadata": {
        "colab": {
          "base_uri": "https://localhost:8080/"
        },
        "id": "UCdqcAbAqS3d",
        "outputId": "201befcf-ce2a-4e01-99be-c17f7e2cfa3b"
      },
      "execution_count": null,
      "outputs": [
        {
          "output_type": "stream",
          "name": "stdout",
          "text": [
            "Summary of dataset:\n",
            "<class 'pandas.core.frame.DataFrame'>\n",
            "RangeIndex: 943 entries, 0 to 942\n",
            "Data columns (total 5 columns):\n",
            " #   Column      Non-Null Count  Dtype \n",
            "---  ------      --------------  ----- \n",
            " 0   user_id     943 non-null    int64 \n",
            " 1   age         943 non-null    int64 \n",
            " 2   gender      943 non-null    object\n",
            " 3   occupation  943 non-null    object\n",
            " 4   zip_code    943 non-null    object\n",
            "dtypes: int64(2), object(3)\n",
            "memory usage: 37.0+ KB\n",
            "None\n"
          ]
        }
      ]
    },
    {
      "cell_type": "code",
      "source": [
        "#i) Summarize all the columns\n",
        "import pandas as pd\n",
        "\n",
        "url = 'https://raw.githubusercontent.com/justmarkham/DAT8/master/data/u.user'\n",
        "df = pd.read_csv(url,delimiter='|')\n",
        "print(df.describe(include='all'))"
      ],
      "metadata": {
        "colab": {
          "base_uri": "https://localhost:8080/"
        },
        "id": "6xPNMGBvr3G-",
        "outputId": "7ce63854-38e6-40a1-c806-874673d6559b"
      },
      "execution_count": null,
      "outputs": [
        {
          "output_type": "stream",
          "name": "stdout",
          "text": [
            "           user_id         age gender occupation zip_code\n",
            "count   943.000000  943.000000    943        943      943\n",
            "unique         NaN         NaN      2         21      795\n",
            "top            NaN         NaN      M    student    55414\n",
            "freq           NaN         NaN    670        196        9\n",
            "mean    472.000000   34.051962    NaN        NaN      NaN\n",
            "std     272.364951   12.192740    NaN        NaN      NaN\n",
            "min       1.000000    7.000000    NaN        NaN      NaN\n",
            "25%     236.500000   25.000000    NaN        NaN      NaN\n",
            "50%     472.000000   31.000000    NaN        NaN      NaN\n",
            "75%     707.500000   43.000000    NaN        NaN      NaN\n",
            "max     943.000000   73.000000    NaN        NaN      NaN\n"
          ]
        }
      ]
    },
    {
      "cell_type": "code",
      "source": [
        "#j) Summarize only the occupation column\n",
        "import pandas as pd\n",
        "\n",
        "url = 'https://raw.githubusercontent.com/justmarkham/DAT8/master/data/u.user'\n",
        "df = pd.read_csv(url,delimiter='|')\n",
        "print(\"Summarizing only th occupation column:\")\n",
        "print(df['occupation'].describe())"
      ],
      "metadata": {
        "colab": {
          "base_uri": "https://localhost:8080/"
        },
        "id": "eKdYofPgsrhC",
        "outputId": "bd46e5b2-44b8-48f5-ae33-6b361528bb47"
      },
      "execution_count": null,
      "outputs": [
        {
          "output_type": "stream",
          "name": "stdout",
          "text": [
            "Summarizing only th occupation column:\n",
            "count         943\n",
            "unique         21\n",
            "top       student\n",
            "freq          196\n",
            "Name: occupation, dtype: object\n"
          ]
        }
      ]
    }
  ]
}