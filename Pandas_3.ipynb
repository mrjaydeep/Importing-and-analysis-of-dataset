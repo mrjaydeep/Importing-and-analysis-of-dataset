{
  "nbformat": 4,
  "nbformat_minor": 0,
  "metadata": {
    "colab": {
      "provenance": []
    },
    "kernelspec": {
      "name": "python3",
      "display_name": "Python 3"
    },
    "language_info": {
      "name": "python"
    }
  },
  "cells": [
    {
      "cell_type": "code",
      "metadata": {
        "id": "dFY-GGbGUnSA",
        "colab": {
          "base_uri": "https://localhost:8080/"
        },
        "outputId": "151b9ec0-2df7-4187-a6f7-4f5cc2b8af71"
      },
      "source": [
        "#Write dataframe into CSV file\n",
        "import pandas as pd\n",
        "df=pd.DataFrame({'S.No.':[1,2,3,4],'Name':['Tom','Lee','Steven','Ram'],\n",
        "                 'Age':[28,32,43,38],'City':['Toronto','Hongkong','Bay Area','Hyderabad'],\n",
        "                 'Salary':[20000,3000,8300,3900]})\n",
        "print(df)\n",
        "df.to_csv('temp.csv',index = False)"
      ],
      "execution_count": null,
      "outputs": [
        {
          "output_type": "stream",
          "name": "stdout",
          "text": [
            "   S.No.    Name  Age       City  Salary\n",
            "0      1     Tom   28    Toronto   20000\n",
            "1      2     Lee   32   Hongkong    3000\n",
            "2      3  Steven   43   Bay Area    8300\n",
            "3      4     Ram   38  Hyderabad    3900\n"
          ]
        }
      ]
    },
    {
      "cell_type": "markdown",
      "source": [
        "# New Section"
      ],
      "metadata": {
        "id": "RBs8FpEbo-5f"
      }
    },
    {
      "cell_type": "code",
      "metadata": {
        "id": "Wsm7g6wGX8JS",
        "colab": {
          "base_uri": "https://localhost:8080/"
        },
        "outputId": "ebe53015-1830-4464-8fce-0c445c5524fb"
      },
      "source": [
        "# Read data from the CSV file\n",
        "df1=pd.read_csv('temp.csv')\n",
        "print(df1)\n",
        "print(df1.dtypes)"
      ],
      "execution_count": null,
      "outputs": [
        {
          "output_type": "stream",
          "name": "stdout",
          "text": [
            "   S.No.    Name  Age       City  Salary\n",
            "0      1     Tom   28    Toronto   20000\n",
            "1      2     Lee   32   Hongkong    3000\n",
            "2      3  Steven   43   Bay Area    8300\n",
            "3      4     Ram   38  Hyderabad    3900\n",
            "S.No.      int64\n",
            "Name      object\n",
            "Age        int64\n",
            "City      object\n",
            "Salary     int64\n",
            "dtype: object\n"
          ]
        }
      ]
    },
    {
      "cell_type": "markdown",
      "metadata": {
        "id": "kG7iM2rbUKmD"
      },
      "source": []
    },
    {
      "cell_type": "code",
      "metadata": {
        "id": "mrDex_VBYje2",
        "colab": {
          "base_uri": "https://localhost:8080/"
        },
        "outputId": "1a60ba87-39b3-4773-9b7f-7f0ab6f4349c"
      },
      "source": [
        "#custom Index\n",
        "df1=pd.read_csv('temp.csv',index_col=['S.No.'])\n",
        "print(df1)"
      ],
      "execution_count": null,
      "outputs": [
        {
          "output_type": "stream",
          "name": "stdout",
          "text": [
            "         Name  Age       City  Salary\n",
            "S.No.                                \n",
            "1         Tom   28    Toronto   20000\n",
            "2         Lee   32   Hongkong    3000\n",
            "3      Steven   43   Bay Area    8300\n",
            "4         Ram   38  Hyderabad    3900\n"
          ]
        }
      ]
    },
    {
      "cell_type": "code",
      "metadata": {
        "id": "yfTUEUrpak8h",
        "colab": {
          "base_uri": "https://localhost:8080/"
        },
        "outputId": "938b5abc-344e-4474-c4f9-22b3e06a93ad"
      },
      "source": [
        "#Converters\n",
        "import numpy as np\n",
        "df = pd.read_csv(\"temp.csv\", dtype={'Salary': np.float64})\n",
        "print(df.dtypes)"
      ],
      "execution_count": null,
      "outputs": [
        {
          "output_type": "stream",
          "name": "stdout",
          "text": [
            "S.No.       int64\n",
            "Name       object\n",
            "Age         int64\n",
            "City       object\n",
            "Salary    float64\n",
            "dtype: object\n"
          ]
        }
      ]
    },
    {
      "cell_type": "code",
      "metadata": {
        "id": "v9DCcSKOa4r9",
        "colab": {
          "base_uri": "https://localhost:8080/"
        },
        "outputId": "44a884b2-43ce-4a6c-bc9a-cfca224640ef"
      },
      "source": [
        "#header_names\n",
        "df=pd.read_csv(\"temp.csv\", names=['a', 'b', 'c','d','e'])\n",
        "print(df)"
      ],
      "execution_count": null,
      "outputs": [
        {
          "output_type": "stream",
          "name": "stdout",
          "text": [
            "       a       b    c          d       e\n",
            "0  S.No.    Name  Age       City  Salary\n",
            "1      1     Tom   28    Toronto   20000\n",
            "2      2     Lee   32   Hongkong    3000\n",
            "3      3  Steven   43   Bay Area    8300\n",
            "4      4     Ram   38  Hyderabad    3900\n"
          ]
        }
      ]
    },
    {
      "cell_type": "code",
      "metadata": {
        "id": "KxzsQ4ztbHsb",
        "colab": {
          "base_uri": "https://localhost:8080/"
        },
        "outputId": "647d562b-b8f0-4bb0-dbd8-82b7208bce96"
      },
      "source": [
        "df=pd.read_csv(\"temp.csv\",names=['a','b','c','d','e'],header=0)\n",
        "print(df)"
      ],
      "execution_count": null,
      "outputs": [
        {
          "output_type": "stream",
          "name": "stdout",
          "text": [
            "   a       b   c          d      e\n",
            "0  1     Tom  28    Toronto  20000\n",
            "1  2     Lee  32   Hongkong   3000\n",
            "2  3  Steven  43   Bay Area   8300\n",
            "3  4     Ram  38  Hyderabad   3900\n"
          ]
        }
      ]
    },
    {
      "cell_type": "code",
      "metadata": {
        "id": "BjgdoBRxbXID",
        "colab": {
          "base_uri": "https://localhost:8080/"
        },
        "outputId": "a556b555-b8c5-4f69-e657-204fc485c57c"
      },
      "source": [
        "#skiprows\n",
        "df=pd.read_csv(\"temp.csv\", skiprows=1)\n",
        "print(df)"
      ],
      "execution_count": null,
      "outputs": [
        {
          "output_type": "stream",
          "name": "stdout",
          "text": [
            "   1     Tom  28    Toronto  20000\n",
            "0  2     Lee  32   Hongkong   3000\n",
            "1  3  Steven  43   Bay Area   8300\n",
            "2  4     Ram  38  Hyderabad   3900\n"
          ]
        }
      ]
    },
    {
      "cell_type": "code",
      "metadata": {
        "id": "_fnRfYX1pCOA",
        "colab": {
          "base_uri": "https://localhost:8080/"
        },
        "outputId": "835bd895-978d-488a-8b6d-fe839f77ff2f"
      },
      "source": [
        "import pandas as pd\n",
        "url = 'http://bit.ly/2cLzoxH'\n",
        "tips=pd.read_csv(url)\n",
        "print (tips.head(10))\n"
      ],
      "execution_count": null,
      "outputs": [
        {
          "output_type": "stream",
          "name": "stdout",
          "text": [
            "       country  year         pop continent  lifeExp   gdpPercap\n",
            "0  Afghanistan  1952   8425333.0      Asia   28.801  779.445314\n",
            "1  Afghanistan  1957   9240934.0      Asia   30.332  820.853030\n",
            "2  Afghanistan  1962  10267083.0      Asia   31.997  853.100710\n",
            "3  Afghanistan  1967  11537966.0      Asia   34.020  836.197138\n",
            "4  Afghanistan  1972  13079460.0      Asia   36.088  739.981106\n",
            "5  Afghanistan  1977  14880372.0      Asia   38.438  786.113360\n",
            "6  Afghanistan  1982  12881816.0      Asia   39.854  978.011439\n",
            "7  Afghanistan  1987  13867957.0      Asia   40.822  852.395945\n",
            "8  Afghanistan  1992  16317921.0      Asia   41.674  649.341395\n",
            "9  Afghanistan  1997  22227415.0      Asia   41.763  635.341351\n"
          ]
        }
      ]
    },
    {
      "cell_type": "code",
      "metadata": {
        "id": "7ninW_85pc1_",
        "colab": {
          "base_uri": "https://localhost:8080/"
        },
        "outputId": "947f255e-707f-4a99-f0a0-1026fc6ef578"
      },
      "source": [
        "#Column Selection\n",
        "tips=pd.read_csv(url)\n",
        "print(tips[['country', 'year', 'pop', 'continent']].head(5))\n"
      ],
      "execution_count": null,
      "outputs": [
        {
          "output_type": "stream",
          "name": "stdout",
          "text": [
            "       country  year         pop continent\n",
            "0  Afghanistan  1952   8425333.0      Asia\n",
            "1  Afghanistan  1957   9240934.0      Asia\n",
            "2  Afghanistan  1962  10267083.0      Asia\n",
            "3  Afghanistan  1967  11537966.0      Asia\n",
            "4  Afghanistan  1972  13079460.0      Asia\n"
          ]
        }
      ]
    },
    {
      "cell_type": "code",
      "metadata": {
        "id": "QzR29dfXwz2n",
        "colab": {
          "base_uri": "https://localhost:8080/"
        },
        "outputId": "b7351e1e-a191-40e3-c39d-e4baaf82dfb4"
      },
      "source": [
        "#Filtering\n",
        "print(tips[tips['continent'] == 'Europe'].head(5))"
      ],
      "execution_count": null,
      "outputs": [
        {
          "output_type": "stream",
          "name": "stdout",
          "text": [
            "    country  year        pop continent  lifeExp    gdpPercap\n",
            "12  Albania  1952  1282697.0    Europe    55.23  1601.056136\n",
            "13  Albania  1957  1476505.0    Europe    59.28  1942.284244\n",
            "14  Albania  1962  1728137.0    Europe    64.82  2312.888958\n",
            "15  Albania  1967  1984060.0    Europe    66.22  2760.196931\n",
            "16  Albania  1972  2263554.0    Europe    67.69  3313.422188\n"
          ]
        }
      ]
    },
    {
      "cell_type": "code",
      "metadata": {
        "id": "5cZfyPPhxTGC",
        "colab": {
          "base_uri": "https://localhost:8080/"
        },
        "outputId": "66e88654-4826-4df4-c6c4-ee7662d8279a"
      },
      "source": [
        "#Group By\n",
        "print(tips.groupby('continent').size())\n"
      ],
      "execution_count": null,
      "outputs": [
        {
          "output_type": "stream",
          "name": "stdout",
          "text": [
            "continent\n",
            "Africa      624\n",
            "Americas    300\n",
            "Asia        396\n",
            "Europe      360\n",
            "Oceania      24\n",
            "dtype: int64\n"
          ]
        }
      ]
    },
    {
      "cell_type": "code",
      "metadata": {
        "id": "ZFtBjPysxhet",
        "colab": {
          "base_uri": "https://localhost:8080/"
        },
        "outputId": "82aec7d5-db34-4485-de28-c2b747765e02"
      },
      "source": [
        "print(tips[tips['continent'] == 'Europe'].tail(5))"
      ],
      "execution_count": null,
      "outputs": [
        {
          "output_type": "stream",
          "name": "stdout",
          "text": [
            "             country  year         pop continent  lifeExp    gdpPercap\n",
            "1603  United Kingdom  1987  56981620.0    Europe   75.007  21664.78767\n",
            "1604  United Kingdom  1992  57866349.0    Europe   76.420  22705.09254\n",
            "1605  United Kingdom  1997  58808266.0    Europe   77.218  26074.53136\n",
            "1606  United Kingdom  2002  59912431.0    Europe   78.471  29478.99919\n",
            "1607  United Kingdom  2007  60776238.0    Europe   79.425  33203.26128\n"
          ]
        }
      ]
    },
    {
      "cell_type": "code",
      "metadata": {
        "id": "lN-PUzcVyDrt"
      },
      "source": [
        "# excel file\n",
        "tips.to_excel(\"tips.xlsx\", sheet_name='customer',index=False) "
      ],
      "execution_count": null,
      "outputs": []
    },
    {
      "cell_type": "code",
      "metadata": {
        "id": "724pU3Cayoz9",
        "colab": {
          "base_uri": "https://localhost:8080/"
        },
        "outputId": "431baa0f-c219-424d-e519-dcaef7fa7c2c"
      },
      "source": [
        "#Rear data from excel file\n",
        "tips = pd.read_excel(\"tips.xlsx\", sheet_name='customer')\n",
        "print (tips.head())\n"
      ],
      "execution_count": null,
      "outputs": [
        {
          "output_type": "stream",
          "name": "stdout",
          "text": [
            "   Unnamed: 0      country  year         pop continent  lifeExp   gdpPercap\n",
            "0           0  Afghanistan  1952   8425333.0      Asia   28.801  779.445314\n",
            "1           1  Afghanistan  1957   9240934.0      Asia   30.332  820.853030\n",
            "2           2  Afghanistan  1962  10267083.0      Asia   31.997  853.100710\n",
            "3           3  Afghanistan  1967  11537966.0      Asia   34.020  836.197138\n",
            "4           4  Afghanistan  1972  13079460.0      Asia   36.088  739.981106\n"
          ]
        }
      ]
    }
  ]
}